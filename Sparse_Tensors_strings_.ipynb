{
  "nbformat": 4,
  "nbformat_minor": 0,
  "metadata": {
    "colab": {
      "provenance": [],
      "authorship_tag": "ABX9TyO1Qt7k/9SgAbRek9q5C7Z5",
      "include_colab_link": true
    },
    "kernelspec": {
      "name": "python3",
      "display_name": "Python 3"
    },
    "language_info": {
      "name": "python"
    }
  },
  "cells": [
    {
      "cell_type": "markdown",
      "metadata": {
        "id": "view-in-github",
        "colab_type": "text"
      },
      "source": [
        "<a href=\"https://colab.research.google.com/github/yeabwang/tensorflow/blob/main/Sparse_Tensors_strings_.ipynb\" target=\"_parent\"><img src=\"https://colab.research.google.com/assets/colab-badge.svg\" alt=\"Open In Colab\"/></a>"
      ]
    },
    {
      "cell_type": "code",
      "execution_count": 2,
      "metadata": {
        "id": "08ssOiQ81wcD"
      },
      "outputs": [],
      "source": [
        "import tensorflow as tf"
      ]
    },
    {
      "cell_type": "code",
      "source": [
        "# Sparse tensor\n",
        "# A sparse tensor is a memory-efficient representation of a tensor where only the non-zero elements and their indices are stored.\n",
        "# It is used to represent tensors that contain a large number of zero values.\n",
        "\n",
        "# Dense Tensor\n",
        "# A dense tensor is a regular tensor where every element in the tensor is explicitly stored, including zeros.\n",
        "# We use it when the tensor is small and mostly filled with non zero elements\n",
        "\n",
        "# Define a 5x5 dense tensor\n",
        "original_dense_tensor = tf.constant([\n",
        "    [1, 0, 0, 3, 0],\n",
        "    [0, 0, 4, 0, 0],\n",
        "    [5, 0, 0, 6, 0],\n",
        "    [0, 0, 0, 0, 7],\n",
        "    [8, 0, 0, 9, 0]\n",
        "])\n",
        "\n",
        "print(\"Original tensor\" , original_dense_tensor)\n",
        "\n",
        "# Sparse tensor\n",
        "# The indices refer to the specific locations in the matrix where the non-zero values are stored. Each index is a pair of coordinates, indicating the row and column where a non-zero value exists in the matrix.\n",
        "indices = tf.where(original_dense_tensor != 0)\n",
        "print(\"Indices\",indices)\n",
        "\n",
        "# The values are the actual non-zero values from the matrix, and they correspond to the indices. Each non-zero value in the matrix has a matching index indicating where it belongs in the original matrix.\n",
        "values = tf.gather_nd(original_dense_tensor,indices)\n",
        "print(\"values\", values)\n",
        "\n",
        "# The dense shape refers to the full shape of the tensor, as if we were to write out all the values (including zeros). This is important because the sparse tensor represents the same matrix, but only stores the non-zero elements and their positions.\n",
        "shape = original_dense_tensor.shape\n",
        "print(\"Dense Shape\" , shape)\n",
        "\n",
        "# Getting our sparse tensor\n",
        "sparse_tensor = tf.SparseTensor(indices,values,shape)\n",
        "print(\"Sparse Tensor\" , sparse_tensor)\n",
        "\n",
        "# Turing it back to dense tensor\n",
        "\n",
        "dense_tensor = tf.sparse.to_dense(sparse_tensor)\n",
        "print(\"Dense Tensor\" , dense_tensor)"
      ],
      "metadata": {
        "colab": {
          "base_uri": "https://localhost:8080/"
        },
        "id": "HNGACkG_12CQ",
        "outputId": "73f09c4a-c455-45d2-fe21-1cef31dab99d"
      },
      "execution_count": 32,
      "outputs": [
        {
          "output_type": "stream",
          "name": "stdout",
          "text": [
            "Original tensor tf.Tensor(\n",
            "[[1 0 0 3 0]\n",
            " [0 0 4 0 0]\n",
            " [5 0 0 6 0]\n",
            " [0 0 0 0 7]\n",
            " [8 0 0 9 0]], shape=(5, 5), dtype=int32)\n",
            "Indices tf.Tensor(\n",
            "[[0 0]\n",
            " [0 3]\n",
            " [1 2]\n",
            " [2 0]\n",
            " [2 3]\n",
            " [3 4]\n",
            " [4 0]\n",
            " [4 3]], shape=(8, 2), dtype=int64)\n",
            "values tf.Tensor([1 3 4 5 6 7 8 9], shape=(8,), dtype=int32)\n",
            "Dense Shape (5, 5)\n",
            "Sparse Tensor SparseTensor(indices=tf.Tensor(\n",
            "[[0 0]\n",
            " [0 3]\n",
            " [1 2]\n",
            " [2 0]\n",
            " [2 3]\n",
            " [3 4]\n",
            " [4 0]\n",
            " [4 3]], shape=(8, 2), dtype=int64), values=tf.Tensor([1 3 4 5 6 7 8 9], shape=(8,), dtype=int32), dense_shape=tf.Tensor([5 5], shape=(2,), dtype=int64))\n",
            "Dense Tensor tf.Tensor(\n",
            "[[1 0 0 3 0]\n",
            " [0 0 4 0 0]\n",
            " [5 0 0 6 0]\n",
            " [0 0 0 0 7]\n",
            " [8 0 0 9 0]], shape=(5, 5), dtype=int32)\n"
          ]
        }
      ]
    },
    {
      "cell_type": "code",
      "source": [
        "# String tensors - ontain variable-length strings.\n",
        "\n",
        "string_tensor = tf.constant([\"Hello\", \"This\", \"Is\", \"Yeabsira\"])\n",
        "string_numbers_tensor = tf.constant([\"3.14\", \"2.32\", \"0.22\"])\n",
        "print(string_tensor)\n",
        "\n",
        "#Common operations\n",
        "# String contatination\n",
        "concatenated_string = tf.strings.join(string_tensor, separator = \" \")\n",
        "print(concatenated_string)\n",
        "\n",
        "# String length\n",
        "string_length = tf.strings.length(string_tensor)\n",
        "print(string_length)\n",
        "\n",
        "# String split\n",
        "string_split = tf.strings.split(string_tensor, sep = \",\")\n",
        "print(string_split)\n",
        "\n",
        "# Substrings\n",
        "substring = tf.strings.substr(string_tensor, pos = 0, len = 2)\n",
        "print(substring)\n",
        "\n",
        "# matching patterns - searching the pattern we want from the tensors\n",
        "pattern_match = tf.strings.regex_full_match(string_tensor, pattern = \"Yeabsira\")\n",
        "print(pattern_match)\n",
        "\n",
        "# replcating patterns\n",
        "replace_pattern = tf.strings.regex_replace(\"Yeabsira\", \"This\", \"Hello\")\n",
        "print(replace_pattern)\n",
        "\n",
        "# Upper casing\n",
        "uppper_case = tf.strings.upper(string_tensor)\n",
        "print(uppper_case)\n",
        "\n",
        "# lower casing\n",
        "lower_case = tf.strings.lower(string_tensor)\n",
        "print(lower_case)\n",
        "\n",
        "# Casting to numerical values\n",
        "numbers = tf.strings.to_number(string_numbers_tensor)\n",
        "print(numbers)\n",
        "\n",
        "# Replacing Patterns Using Regex - modify strings in a flexible and automated way. This is useful for text preprocessing tasks like normalizing data.\n",
        "replaced = tf.strings.regex_replace(\"Hello\", \"l\", \"L\")\n",
        "print(replaced)\n",
        "\n",
        "#combining all strings into one tensor\n",
        "combined = tf.strings.reduce_join(string_tensor, separator = \" \")\n",
        "print(combined)\n"
      ],
      "metadata": {
        "colab": {
          "base_uri": "https://localhost:8080/"
        },
        "id": "G-BkQ_U4ko1C",
        "outputId": "8915e93a-9115-45e8-bb08-95161c190ff3"
      },
      "execution_count": 64,
      "outputs": [
        {
          "output_type": "stream",
          "name": "stdout",
          "text": [
            "tf.Tensor([b'Hello' b'This' b'Is' b'Yeabsira'], shape=(4,), dtype=string)\n",
            "tf.Tensor(b'Hello This Is Yeabsira', shape=(), dtype=string)\n",
            "tf.Tensor([5 4 2 8], shape=(4,), dtype=int32)\n",
            "<tf.RaggedTensor [[b'Hello'],\n",
            " [b'This'],\n",
            " [b'Is'],\n",
            " [b'Yeabsira']]>\n",
            "tf.Tensor([b'He' b'Th' b'Is' b'Ye'], shape=(4,), dtype=string)\n",
            "tf.Tensor([False False False  True], shape=(4,), dtype=bool)\n",
            "tf.Tensor(b'Yeabsira', shape=(), dtype=string)\n",
            "tf.Tensor([b'HELLO' b'THIS' b'IS' b'YEABSIRA'], shape=(4,), dtype=string)\n",
            "tf.Tensor([b'hello' b'this' b'is' b'yeabsira'], shape=(4,), dtype=string)\n",
            "tf.Tensor([3.14 2.32 0.22], shape=(3,), dtype=float32)\n",
            "tf.Tensor(b'HeLLo', shape=(), dtype=string)\n",
            "tf.Tensor(b'Hello This Is Yeabsira', shape=(), dtype=string)\n"
          ]
        }
      ]
    },
    {
      "cell_type": "code",
      "source": [],
      "metadata": {
        "id": "gO-nGmuTFCA-"
      },
      "execution_count": null,
      "outputs": []
    }
  ]
}