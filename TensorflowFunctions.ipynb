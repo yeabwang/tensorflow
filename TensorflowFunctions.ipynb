{
  "nbformat": 4,
  "nbformat_minor": 0,
  "metadata": {
    "colab": {
      "provenance": [],
      "authorship_tag": "ABX9TyNlbG69pjf5pypw5HuDlEwD",
      "include_colab_link": true
    },
    "kernelspec": {
      "name": "python3",
      "display_name": "Python 3"
    },
    "language_info": {
      "name": "python"
    }
  },
  "cells": [
    {
      "cell_type": "markdown",
      "metadata": {
        "id": "view-in-github",
        "colab_type": "text"
      },
      "source": [
        "<a href=\"https://colab.research.google.com/github/yeabwang/tensorflow/blob/main/TensorflowFunctions.ipynb\" target=\"_parent\"><img src=\"https://colab.research.google.com/assets/colab-badge.svg\" alt=\"Open In Colab\"/></a>"
      ]
    },
    {
      "cell_type": "code",
      "execution_count": null,
      "metadata": {
        "id": "dr5Uh8GJjf4s"
      },
      "outputs": [],
      "source": [
        "import tensorflow as tf"
      ]
    },
    {
      "cell_type": "code",
      "source": [
        "#Expanding dimensions -  Expanding a tensor adds dimensions of size 1 to the tensor.\n",
        "#This is useful for broadcasting, which allows you to perform element-wise operations on tensors of different shapes.\n",
        "\n",
        "x1 = tf.constant([\n",
        "    [[2,6,4,2],\n",
        "    [2,-2,2,3],\n",
        "    [1,5,4,0]],\n",
        "\n",
        "    [[2,6,4,2],\n",
        "    [2,-2,2,3],\n",
        "    [1,5,4,0]]\n",
        "])\n",
        "\n",
        "print(\"Original Tensor\" , x1.shape)\n",
        "expanded_tensor = tf.expand_dims(x1,axis=0) #will add one new dimension like changing three d to four d\n",
        "#print(expanded_tensor)\n",
        "print(\"Expanded tensor\",expanded_tensor.shape)"
      ],
      "metadata": {
        "colab": {
          "base_uri": "https://localhost:8080/"
        },
        "id": "Hzx2tcR0jpmi",
        "outputId": "ba2a5dcb-b1b6-4596-b642-1ff49b57b1d0"
      },
      "execution_count": null,
      "outputs": [
        {
          "output_type": "stream",
          "name": "stdout",
          "text": [
            "Original Tensor (2, 3, 4)\n",
            "Expanded tensor (1, 2, 3, 4)\n"
          ]
        }
      ]
    },
    {
      "cell_type": "code",
      "source": [
        "# Squeezing or removing dimension - removes dimensions with size 1. This is typically used when you want to eliminate unnecessary dimensions that do not contribute to the tensor’s data, making it more compact.\n",
        "\n",
        "print(\"Expanded Tensor\" , expanded_tensor.shape)\n",
        "squeezed_tensor = tf.squeeze(expanded_tensor, axis=0) # We can only squeeze out the extra axis we expanded\n",
        "# print(squeezed_tensor)\n",
        "print(\"Squeezed Tensor\" , squeezed_tensor.shape)"
      ],
      "metadata": {
        "colab": {
          "base_uri": "https://localhost:8080/"
        },
        "id": "LWLXWUMckfhx",
        "outputId": "0350d117-13f6-4a7b-d0d3-2a8f431adc76"
      },
      "execution_count": null,
      "outputs": [
        {
          "output_type": "stream",
          "name": "stdout",
          "text": [
            "Expanded Tensor (1, 2, 3, 4)\n",
            "Squeezed Tensor (2, 3, 4)\n"
          ]
        }
      ]
    },
    {
      "cell_type": "code",
      "source": [
        "# Reshaping tensor - the operation of changing the shape or dimensionality of the tensor without altering its data.\n",
        "# We can only reshape it to a shape that match our original shape total number.\n",
        "# If we have (3,4) we can only reshape it to (1,12), and (2,6) since we have to keep the 12 toatl numbers\n",
        "\n",
        "x1 = tf.constant([\n",
        "    [2,6,4,2],\n",
        "    [2,-2,2,3],\n",
        "    [1,5,4,0]\n",
        "])\n",
        "print(x1.shape)\n",
        "\n",
        "reshaped = tf.reshape(x1,shape=(2,6))\n",
        "print(reshaped.shape)"
      ],
      "metadata": {
        "colab": {
          "base_uri": "https://localhost:8080/"
        },
        "id": "wzJCcc9glpkA",
        "outputId": "9291e804-3d01-4533-f536-5ff7d74dd1e7"
      },
      "execution_count": null,
      "outputs": [
        {
          "output_type": "stream",
          "name": "stdout",
          "text": [
            "(3, 4)\n",
            "(2, 6)\n"
          ]
        }
      ]
    },
    {
      "cell_type": "code",
      "source": [
        "# Concatinating tensors\n",
        "x1 = tf.constant([\n",
        "    [2,6,4,2],\n",
        "    [2,-2,2,3],\n",
        "    [1,5,4,0]\n",
        "])\n",
        "\n",
        "x2 = tf.constant([\n",
        "\n",
        "    [3,-1,7,4],\n",
        "    [6,2,-5,9],\n",
        "    [-2,8,0,1]\n",
        "])\n",
        "\n",
        "concatinated = tf.concat([x1,x2],axis=1) # axis has to be between 0 and 1, 0 row wise, 1 column wise\n",
        "# When the axis is 1 we fix the row wise and we will add the columns of the two matrix\n",
        "print(concatinated)\n",
        "concatinated = tf.concat([x1,x2],axis=0)\n",
        "# When the axis is 0 we fix the columns and we add up the rows\n",
        "print(concatinated)"
      ],
      "metadata": {
        "colab": {
          "base_uri": "https://localhost:8080/"
        },
        "id": "jvLjuw8CXKbu",
        "outputId": "e1414e02-5f87-4190-9646-1d3cc3fd2e98"
      },
      "execution_count": 29,
      "outputs": [
        {
          "output_type": "stream",
          "name": "stdout",
          "text": [
            "tf.Tensor(\n",
            "[[ 2  6  4  2  3 -1  7  4]\n",
            " [ 2 -2  2  3  6  2 -5  9]\n",
            " [ 1  5  4  0 -2  8  0  1]], shape=(3, 8), dtype=int32)\n",
            "tf.Tensor(\n",
            "[[ 2  6  4  2]\n",
            " [ 2 -2  2  3]\n",
            " [ 1  5  4  0]\n",
            " [ 3 -1  7  4]\n",
            " [ 6  2 -5  9]\n",
            " [-2  8  0  1]], shape=(6, 4), dtype=int32)\n"
          ]
        }
      ]
    },
    {
      "cell_type": "code",
      "source": [
        "# stack - stacks a list of tensors along a new dimension. It creates a new dimension and appends the tensors along this dimension, resulting in a tensor with a higher rank.\n",
        "\n",
        "x1 = tf.constant([\n",
        "    [2,6,4,2],\n",
        "    [2,-2,2,3],\n",
        "    [1,5,4,0]\n",
        "])\n",
        "x2 = tf.constant([\n",
        "\n",
        "    [3,-1,7,4],\n",
        "    [6,2,-5,9],\n",
        "    [-2,8,0,1]\n",
        "])\n",
        "\n",
        "stacking_rows = tf.stack([x1,x2], axis = 0) # When you stack tensors along axis=0, a new dimension is added at the beginning (the first axis).\n",
        "print(stacking_rows, \"\\n\")\n",
        "\n",
        "stacking_perrows = tf.stack([x1,x2], axis = 1) # When you stack along axis=1, the new dimension is added between the first and second axes of the tensors.\n",
        "print(stacking_perrows, \"\\n\")\n",
        "\n",
        "stacking_col =  tf.stack([x1,x2], axis = -1) # When you stack along axis=-1, you're stacking along the last dimension. This essentially means you're adding a new dimension to the end of the tensor.\n",
        "print(stacking_col, \"\\n\")\n"
      ],
      "metadata": {
        "id": "BrfTyVVbZ3rs",
        "colab": {
          "base_uri": "https://localhost:8080/"
        },
        "outputId": "5115a263-ff2b-4d99-c036-40b51f86297e"
      },
      "execution_count": 37,
      "outputs": [
        {
          "output_type": "stream",
          "name": "stdout",
          "text": [
            "tf.Tensor(\n",
            "[[[ 2  6  4  2]\n",
            "  [ 2 -2  2  3]\n",
            "  [ 1  5  4  0]]\n",
            "\n",
            " [[ 3 -1  7  4]\n",
            "  [ 6  2 -5  9]\n",
            "  [-2  8  0  1]]], shape=(2, 3, 4), dtype=int32) \n",
            "\n",
            "tf.Tensor(\n",
            "[[[ 2  6  4  2]\n",
            "  [ 3 -1  7  4]]\n",
            "\n",
            " [[ 2 -2  2  3]\n",
            "  [ 6  2 -5  9]]\n",
            "\n",
            " [[ 1  5  4  0]\n",
            "  [-2  8  0  1]]], shape=(3, 2, 4), dtype=int32) \n",
            "\n",
            "tf.Tensor(\n",
            "[[[ 2  3]\n",
            "  [ 6 -1]\n",
            "  [ 4  7]\n",
            "  [ 2  4]]\n",
            "\n",
            " [[ 2  6]\n",
            "  [-2  2]\n",
            "  [ 2 -5]\n",
            "  [ 3  9]]\n",
            "\n",
            " [[ 1 -2]\n",
            "  [ 5  8]\n",
            "  [ 4  0]\n",
            "  [ 0  1]]], shape=(3, 4, 2), dtype=int32) \n",
            "\n"
          ]
        }
      ]
    },
    {
      "cell_type": "code",
      "source": [],
      "metadata": {
        "id": "Rbx4RqY1dBiV"
      },
      "execution_count": null,
      "outputs": []
    }
  ]
}