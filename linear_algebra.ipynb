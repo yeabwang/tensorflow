{
  "nbformat": 4,
  "nbformat_minor": 0,
  "metadata": {
    "colab": {
      "provenance": [],
      "authorship_tag": "ABX9TyPmyU1DvL6bt8aqRMsjgnIi",
      "include_colab_link": true
    },
    "kernelspec": {
      "name": "python3",
      "display_name": "Python 3"
    },
    "language_info": {
      "name": "python"
    }
  },
  "cells": [
    {
      "cell_type": "markdown",
      "metadata": {
        "id": "view-in-github",
        "colab_type": "text"
      },
      "source": [
        "<a href=\"https://colab.research.google.com/github/yeabwang/tensorflow/blob/main/linear_algebra.ipynb\" target=\"_parent\"><img src=\"https://colab.research.google.com/assets/colab-badge.svg\" alt=\"Open In Colab\"/></a>"
      ]
    },
    {
      "cell_type": "code",
      "execution_count": null,
      "metadata": {
        "id": "bdQsZ1H9zVHE"
      },
      "outputs": [],
      "source": [
        "import tensorflow as tf"
      ]
    },
    {
      "cell_type": "code",
      "source": [
        "# matrix multiplication // not element wise\n",
        "# For this to happen the number of columns in the first row should be equal to the number of columns in the second row.\n",
        "#  2x3 and 3x2 - valid\n",
        "# 2x3 and 2x3 - invalid\n",
        "# In case of 3d matrix, we are going to do the multiplication the first batch of the first matrix to the first batch of the second matrix\n",
        "\n",
        "x1 = tf.constant([[1,2,0],\n",
        "                [3,5,-1]])\n",
        "x2 = tf.constant([[1,2,0],\n",
        "                 [3,5,-1],\n",
        "                [3,5,-1]])\n",
        "\n",
        "tf.linalg.matmul(x1,x2)\n",
        "print(x1@x2)\n",
        "tf.linalg.matmul(x1,x2,transpose_b=False, transpose_a = False,adjoint_a=False, a_is_sparse=False,output_type=None, name=None)\n"
      ],
      "metadata": {
        "colab": {
          "base_uri": "https://localhost:8080/"
        },
        "id": "FHVfDLOizcMm",
        "outputId": "c8ac57ec-dca1-4838-a79c-d450058eec1b"
      },
      "execution_count": null,
      "outputs": [
        {
          "output_type": "stream",
          "name": "stdout",
          "text": [
            "tf.Tensor(\n",
            "[[ 7 12 -2]\n",
            " [15 26 -4]], shape=(2, 3), dtype=int32)\n"
          ]
        },
        {
          "output_type": "execute_result",
          "data": {
            "text/plain": [
              "<tf.Tensor: shape=(2, 3), dtype=int32, numpy=\n",
              "array([[ 7, 12, -2],\n",
              "       [15, 26, -4]], dtype=int32)>"
            ]
          },
          "metadata": {},
          "execution_count": 19
        }
      ]
    },
    {
      "cell_type": "code",
      "source": [
        "tf.transpose(x1)\n",
        "tf.transpose(x2)"
      ],
      "metadata": {
        "colab": {
          "base_uri": "https://localhost:8080/"
        },
        "id": "0KDMK_Cn0SL3",
        "outputId": "e1d7976c-099d-4659-b4cf-8b47306f9ec6"
      },
      "execution_count": null,
      "outputs": [
        {
          "output_type": "execute_result",
          "data": {
            "text/plain": [
              "<tf.Tensor: shape=(3, 3), dtype=int32, numpy=\n",
              "array([[ 1,  3,  3],\n",
              "       [ 2,  5,  5],\n",
              "       [ 0, -1, -1]], dtype=int32)>"
            ]
          },
          "metadata": {},
          "execution_count": 21
        }
      ]
    },
    {
      "cell_type": "code",
      "source": [],
      "metadata": {
        "id": "PMWugMAi6AmE"
      },
      "execution_count": null,
      "outputs": []
    }
  ]
}