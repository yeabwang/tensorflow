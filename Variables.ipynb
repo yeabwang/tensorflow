{
  "nbformat": 4,
  "nbformat_minor": 0,
  "metadata": {
    "colab": {
      "provenance": [],
      "authorship_tag": "ABX9TyN2lhu4sVePm1afuc9cMsK4",
      "include_colab_link": true
    },
    "kernelspec": {
      "name": "python3",
      "display_name": "Python 3"
    },
    "language_info": {
      "name": "python"
    }
  },
  "cells": [
    {
      "cell_type": "markdown",
      "metadata": {
        "id": "view-in-github",
        "colab_type": "text"
      },
      "source": [
        "<a href=\"https://colab.research.google.com/github/yeabwang/tensorflow/blob/main/Variables.ipynb\" target=\"_parent\"><img src=\"https://colab.research.google.com/assets/colab-badge.svg\" alt=\"Open In Colab\"/></a>"
      ]
    },
    {
      "cell_type": "code",
      "execution_count": 2,
      "metadata": {
        "id": "ZmqGnOL0NGXO"
      },
      "outputs": [],
      "source": [
        "import tensorflow as tf"
      ]
    },
    {
      "cell_type": "code",
      "source": [
        "# Variables\n",
        "# are mutable tensors that can hold and update values during the execution of a program. They are primarily used to store parameters, weights, or any values that a model learns during training.\n",
        "\n",
        "#Defining variable\n",
        "\n",
        "# tf.Variable(\n",
        "#     initial_value, - The initial value of the variable. Variables must be initialized before they are used.\n",
        "#     trainable=True, - If True, the variable will be added to the collection of variables tracked by the optimizer (so that it is trained during backpropagation.\n",
        "#     validate_shape=True, - If True, TensorFlow will validate the shape of the tensor passed as initial_value. If False, the shape is not checked (useful in cases like dynamic shapes).\n",
        "#     caching_device=None, -  Specifies the device on which to cache the variable. This argument is useful for multi-device setups, especially when using distributed training.\n",
        "#     name=None, - Name of the variable. This is used to identify the variable in TensorFlow's computation graph and for visualization.\n",
        "#     dtype=None, - The type of the variable. If not specified, the dtype will be inferred from the initial_value.\n",
        "#     import_scope=None, - Used when importing variables from another scope. This is useful in cases like model restoration from a checkpoint or variable sharing across models.\n",
        "#     constraint=None, - A function applied to the variable after every update, which can be used to constrain its values. For example, you can limit a weight matrix to stay positive, or clip gradients.\n",
        "#     synchronization=tf.VariableSynchronization.AUTO, - Specifies when the variable's updates should be synchronized across different devices. This is important for distributed training.(None, ON_READ, ON_WRITE)\n",
        "#     aggregation=tf.compat.v1.VariableAggregation.NONE - Specifies how to aggregate the values of the variable when performing distributed training.(None, sum, mean)\n",
        "# )\n",
        "\n",
        "\n",
        "my_var = tf.Variable(0, name = \"Scalar var\")\n",
        "vector_var = tf.Variable([1,2,3], name = \"Vector var\")\n",
        "matrix_var = tf.Variable([[1,2],[3,4]], name = \"Matrix var\")\n",
        "print(\"Scalar\" , my_var)\n",
        "print(\"vector\", vector_var)\n",
        "print(\"matrix\", matrix_var)\n",
        "\n",
        "# Variable Initialization Variables must be initialized before they are used\n",
        "my_var.assign(20)\n",
        "print(my_var)\n",
        "tf.print(\"Current value stored\", my_var)\n",
        "\n",
        "#increament\n",
        "my_var.assign_add(10)\n",
        "tf.print(\"Current value stored\", my_var)\n",
        "\n",
        "#decreament\n",
        "my_var.assign_sub(5)\n",
        "tf.print(\"Current value stored\", my_var)\n",
        "\n",
        "# Mutable: Variables can be updated using assignment operations.\n",
        "# Trainable: By default, variables are tracked by TensorFlow for gradient calculations.\n",
        "# Type and Shape: The shape and the data type to be stored in a variable will be decided at the time of declaration\n"
      ],
      "metadata": {
        "colab": {
          "base_uri": "https://localhost:8080/"
        },
        "id": "exdymqUBNRUb",
        "outputId": "057d7471-ccaf-4b99-d32b-8557d071647f"
      },
      "execution_count": 13,
      "outputs": [
        {
          "output_type": "stream",
          "name": "stdout",
          "text": [
            "Scalar <tf.Variable 'Variable:0' shape=() dtype=int32, numpy=0>\n",
            "vector <tf.Variable 'Variable:0' shape=(3,) dtype=int32, numpy=array([1, 2, 3], dtype=int32)>\n",
            "matrix <tf.Variable 'Variable:0' shape=(2, 2) dtype=int32, numpy=\n",
            "array([[1, 2],\n",
            "       [3, 4]], dtype=int32)>\n",
            "<tf.Variable 'Variable:0' shape=() dtype=int32, numpy=20>\n",
            "Current value stored 20\n",
            "Current value stored 30\n",
            "Current value stored 25\n"
          ]
        }
      ]
    },
    {
      "cell_type": "code",
      "source": [
        "# We can define where to store our constant and variable tensors in our Gpu or cpu\n",
        "with tf.device(\"/device:CPU:0\"):\n",
        "    my_var = tf.Variable(0.2)\n",
        "print(my_var.device)"
      ],
      "metadata": {
        "colab": {
          "base_uri": "https://localhost:8080/"
        },
        "id": "ayeC7s4nSQ_b",
        "outputId": "b8b72a44-bbea-4cb2-86b0-fb53f9559036"
      },
      "execution_count": 16,
      "outputs": [
        {
          "output_type": "stream",
          "name": "stdout",
          "text": [
            "/job:localhost/replica:0/task:0/device:CPU:0\n"
          ]
        }
      ]
    },
    {
      "cell_type": "code",
      "source": [],
      "metadata": {
        "id": "Tryz8xRkYym7"
      },
      "execution_count": null,
      "outputs": []
    }
  ]
}