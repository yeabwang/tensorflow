{
  "nbformat": 4,
  "nbformat_minor": 0,
  "metadata": {
    "colab": {
      "provenance": [],
      "authorship_tag": "ABX9TyMicn04NjsfdZxbug0DRqmC",
      "include_colab_link": true
    },
    "kernelspec": {
      "name": "python3",
      "display_name": "Python 3"
    },
    "language_info": {
      "name": "python"
    }
  },
  "cells": [
    {
      "cell_type": "markdown",
      "metadata": {
        "id": "view-in-github",
        "colab_type": "text"
      },
      "source": [
        "<a href=\"https://colab.research.google.com/github/yeabwang/tensorflow/blob/main/Indexing.ipynb\" target=\"_parent\"><img src=\"https://colab.research.google.com/assets/colab-badge.svg\" alt=\"Open In Colab\"/></a>"
      ]
    },
    {
      "cell_type": "code",
      "execution_count": null,
      "metadata": {
        "id": "j8zfSOw9rFv0"
      },
      "outputs": [],
      "source": [
        "import tensorflow as tf"
      ]
    },
    {
      "cell_type": "code",
      "source": [
        "tensor_indexed = tf.constant([3,2,1,4,7,8])\n",
        "\n",
        "print(tensor_indexed)\n",
        "print(tensor_indexed[0:4:2])"
      ],
      "metadata": {
        "colab": {
          "base_uri": "https://localhost:8080/"
        },
        "id": "cAkFHgIGOLgR",
        "outputId": "ae0a1044-6157-48f2-9019-6e04d11dba17"
      },
      "execution_count": null,
      "outputs": [
        {
          "output_type": "stream",
          "name": "stdout",
          "text": [
            "tf.Tensor([3 2 1 4 7 8], shape=(6,), dtype=int32)\n",
            "tf.Tensor([3 1], shape=(2,), dtype=int32)\n"
          ]
        }
      ]
    },
    {
      "cell_type": "code",
      "source": [
        "tf.range(1,4)"
      ],
      "metadata": {
        "colab": {
          "base_uri": "https://localhost:8080/"
        },
        "id": "Y7qWramyOgSv",
        "outputId": "d2f1aaed-3589-4305-be47-1241865542bd"
      },
      "execution_count": null,
      "outputs": [
        {
          "output_type": "execute_result",
          "data": {
            "text/plain": [
              "<tf.Tensor: shape=(3,), dtype=int32, numpy=array([1, 2, 3], dtype=int32)>"
            ]
          },
          "metadata": {},
          "execution_count": 7
        }
      ]
    },
    {
      "cell_type": "code",
      "source": [
        "index_two_d = tf.constant([\n",
        "    [1,2,3],\n",
        "    [4,5,6],\n",
        "    [7,8,9]\n",
        "])\n",
        "#print(index_two_d)\n",
        "print(index_two_d[0:3,0:2])\n",
        "print(index_two_d[2,1:2])\n",
        "print(index_two_d[...,1:3])"
      ],
      "metadata": {
        "colab": {
          "base_uri": "https://localhost:8080/"
        },
        "id": "MF3Rd1-lPHiY",
        "outputId": "3290380b-b7b3-496c-81a7-589c1622c0ca"
      },
      "execution_count": null,
      "outputs": [
        {
          "output_type": "stream",
          "name": "stdout",
          "text": [
            "tf.Tensor(\n",
            "[[1 2]\n",
            " [4 5]\n",
            " [7 8]], shape=(3, 2), dtype=int32)\n",
            "tf.Tensor([8], shape=(1,), dtype=int32)\n",
            "tf.Tensor(\n",
            "[[2 3]\n",
            " [5 6]\n",
            " [8 9]], shape=(3, 2), dtype=int32)\n"
          ]
        }
      ]
    },
    {
      "cell_type": "code",
      "source": [
        "index_three_d = tf.constant([\n",
        "    [[1,2,3,4],\n",
        "    [5,6,7,8]],\n",
        "\n",
        "    [[1,2,3,4],\n",
        "    [5,6,7,8]],\n",
        "\n",
        "    [[1,2,3,4],\n",
        "    [5,6,7,8]]\n",
        "])\n",
        "\n",
        "print(index_three_d)\n",
        "print(index_three_d[0,:,:])"
      ],
      "metadata": {
        "colab": {
          "base_uri": "https://localhost:8080/"
        },
        "id": "zDutPk2aZ5H2",
        "outputId": "795f036f-5d0f-4f1a-9f37-acda5c309cac"
      },
      "execution_count": null,
      "outputs": [
        {
          "output_type": "stream",
          "name": "stdout",
          "text": [
            "tf.Tensor(\n",
            "[[[1 2 3 4]\n",
            "  [5 6 7 8]]\n",
            "\n",
            " [[1 2 3 4]\n",
            "  [5 6 7 8]]\n",
            "\n",
            " [[1 2 3 4]\n",
            "  [5 6 7 8]]], shape=(3, 2, 4), dtype=int32)\n",
            "tf.Tensor(\n",
            "[[1 2 3 4]\n",
            " [5 6 7 8]], shape=(2, 4), dtype=int32)\n"
          ]
        }
      ]
    },
    {
      "cell_type": "code",
      "source": [],
      "metadata": {
        "id": "___cunxod1c0"
      },
      "execution_count": null,
      "outputs": []
    }
  ]
}