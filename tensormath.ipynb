{
  "nbformat": 4,
  "nbformat_minor": 0,
  "metadata": {
    "colab": {
      "provenance": [],
      "authorship_tag": "ABX9TyMofWxbHKdNizYbnuo3D8GA",
      "include_colab_link": true
    },
    "kernelspec": {
      "name": "python3",
      "display_name": "Python 3"
    },
    "language_info": {
      "name": "python"
    }
  },
  "cells": [
    {
      "cell_type": "markdown",
      "metadata": {
        "id": "view-in-github",
        "colab_type": "text"
      },
      "source": [
        "<a href=\"https://colab.research.google.com/github/yeabwang/tensorflow/blob/main/tensormath.ipynb\" target=\"_parent\"><img src=\"https://colab.research.google.com/assets/colab-badge.svg\" alt=\"Open In Colab\"/></a>"
      ]
    },
    {
      "cell_type": "code",
      "execution_count": null,
      "metadata": {
        "id": "5RxJ84WXeHEQ"
      },
      "outputs": [],
      "source": [
        "import tensorflow as tf"
      ]
    },
    {
      "cell_type": "code",
      "source": [
        "tf_abs = tf.abs([-2])\n",
        "print(tf_abs)"
      ],
      "metadata": {
        "colab": {
          "base_uri": "https://localhost:8080/"
        },
        "id": "eTRcsRIceUeP",
        "outputId": "ccbd8077-2319-4c68-cd9b-0a328a87d6f2"
      },
      "execution_count": null,
      "outputs": [
        {
          "output_type": "stream",
          "name": "stdout",
          "text": [
            "tf.Tensor([2], shape=(1,), dtype=int32)\n"
          ]
        }
      ]
    },
    {
      "cell_type": "code",
      "source": [
        "tf.abs(tf.constant([-0.2]))"
      ],
      "metadata": {
        "colab": {
          "base_uri": "https://localhost:8080/"
        },
        "id": "YLAnNY3meuxb",
        "outputId": "79dec03c-c803-4dfa-a39a-b5c49cd393ed"
      },
      "execution_count": null,
      "outputs": [
        {
          "output_type": "execute_result",
          "data": {
            "text/plain": [
              "<tf.Tensor: shape=(1,), dtype=float32, numpy=array([0.2], dtype=float32)>"
            ]
          },
          "metadata": {},
          "execution_count": 4
        }
      ]
    },
    {
      "cell_type": "code",
      "source": [
        "#tensor with complex numbers\n",
        "\n",
        "x_abs_complex = tf.constant([-2.30+4.8j, -9.0+3.2j])\n",
        "tf.abs(x_abs_complex)\n",
        "tf.sqrt(x_abs_complex)"
      ],
      "metadata": {
        "colab": {
          "base_uri": "https://localhost:8080/"
        },
        "id": "1NVXJnoSe6YT",
        "outputId": "241c2fb0-4f21-4463-b1b3-7499bfc5bc14"
      },
      "execution_count": null,
      "outputs": [
        {
          "output_type": "execute_result",
          "data": {
            "text/plain": [
              "<tf.Tensor: shape=(2,), dtype=complex128, numpy=array([1.22934807+1.95225426j, 0.52533949+3.04564961j])>"
            ]
          },
          "metadata": {},
          "execution_count": 7
        }
      ]
    },
    {
      "cell_type": "code",
      "source": [
        "#element wise addition, multiplication, subs and div\n",
        "\n",
        "x1 = tf.constant([1,2,3,4])\n",
        "x2 = tf.constant([5,6,7,4])\n",
        "tf.add(x1,x2)\n",
        "tf.subtract(x1,x2)\n",
        "tf.multiply(x1,x2)\n",
        "tf.divide(x1,x2)"
      ],
      "metadata": {
        "colab": {
          "base_uri": "https://localhost:8080/"
        },
        "id": "zedgO73bfk8E",
        "outputId": "2bc2bb19-9d66-4121-f2d5-e79604d25582"
      },
      "execution_count": null,
      "outputs": [
        {
          "output_type": "execute_result",
          "data": {
            "text/plain": [
              "<tf.Tensor: shape=(4,), dtype=int32, numpy=array([6, 7, 8, 9], dtype=int32)>"
            ]
          },
          "metadata": {},
          "execution_count": 14
        }
      ]
    },
    {
      "cell_type": "code",
      "source": [
        "#Handling null or infinity values\n",
        "x1 = tf.constant([1,2,3,4])\n",
        "x2 = tf.constant([0])\n",
        "tf.math.divide_no_nan(x1,x2)\n"
      ],
      "metadata": {
        "colab": {
          "base_uri": "https://localhost:8080/"
        },
        "id": "lisFcaoxgX4i",
        "outputId": "b0ccbab2-dfcf-402d-adb8-7157a0eb9fdb"
      },
      "execution_count": null,
      "outputs": [
        {
          "output_type": "execute_result",
          "data": {
            "text/plain": [
              "<tf.Tensor: shape=(4,), dtype=float64, numpy=array([0., 0., 0., 0.])>"
            ]
          },
          "metadata": {},
          "execution_count": 17
        }
      ]
    },
    {
      "cell_type": "code",
      "source": [
        "# Max of two tensors element wise\n",
        "x1 = tf.constant([12,20,3,4])\n",
        "x2 = tf.constant([5,6,7,41])\n",
        "\n",
        "tf.math.maximum(x1,x2,name=None)"
      ],
      "metadata": {
        "colab": {
          "base_uri": "https://localhost:8080/"
        },
        "id": "YOed1y6nhvRL",
        "outputId": "29454061-5820-4556-bd36-e53eb7ca26b0"
      },
      "execution_count": null,
      "outputs": [
        {
          "output_type": "execute_result",
          "data": {
            "text/plain": [
              "<tf.Tensor: shape=(4,), dtype=int32, numpy=array([12, 20,  7, 41], dtype=int32)>"
            ]
          },
          "metadata": {},
          "execution_count": 20
        }
      ]
    },
    {
      "cell_type": "code",
      "source": [
        "# Arg max return the index of the max\n",
        "x1 = tf.constant([\n",
        "    [12,20,3,4],\n",
        "    [32,1,33,8]\n",
        "    ])\n",
        "x2 = tf.constant([5,6,7,41])\n",
        "print(tf.math.argmax(x2))\n",
        "print(tf.math.argmax(x1))\n",
        "print(tf.math.argmax(x1,0)) # the comparision will be done column wise # 0 is called axis\n",
        "print(tf.math.argmax(x1,1)) # the comparision will be done row wise"
      ],
      "metadata": {
        "colab": {
          "base_uri": "https://localhost:8080/"
        },
        "id": "yKVRG3sylR26",
        "outputId": "0680de57-edf1-4d91-90b3-681e3a32e540"
      },
      "execution_count": null,
      "outputs": [
        {
          "output_type": "stream",
          "name": "stdout",
          "text": [
            "tf.Tensor(3, shape=(), dtype=int64)\n",
            "tf.Tensor([1 0 1 1], shape=(4,), dtype=int64)\n",
            "tf.Tensor([1 0 1 1], shape=(4,), dtype=int64)\n",
            "tf.Tensor([1 2], shape=(2,), dtype=int64)\n"
          ]
        }
      ]
    },
    {
      "cell_type": "code",
      "source": [
        "# Arg min return the index of the maminx\n",
        "x1 = tf.constant([\n",
        "    [12,20,3,4],\n",
        "    [32,1,32,8]\n",
        "    ])\n",
        "x2 = tf.constant([5,6,7,41])\n",
        "print(tf.math.argmin(x2))\n",
        "print(tf.math.argmin(x1))"
      ],
      "metadata": {
        "colab": {
          "base_uri": "https://localhost:8080/"
        },
        "id": "X72zmcEgmTW6",
        "outputId": "e30af86a-87a1-46f6-d0fe-21a7cb4ee373"
      },
      "execution_count": null,
      "outputs": [
        {
          "output_type": "stream",
          "name": "stdout",
          "text": [
            "tf.Tensor(0, shape=(), dtype=int64)\n",
            "tf.Tensor([0 1 0 0], shape=(4,), dtype=int64)\n"
          ]
        }
      ]
    },
    {
      "cell_type": "code",
      "source": [
        "x1 = tf.constant([2,3,4,5])\n",
        "x2 = tf.constant([2,3,4,5])\n",
        "tf.pow(x1,x2)"
      ],
      "metadata": {
        "colab": {
          "base_uri": "https://localhost:8080/"
        },
        "id": "cOczgQw3nt0b",
        "outputId": "54ad9a2c-8544-4891-a8d9-5b78a7d43db0"
      },
      "execution_count": null,
      "outputs": [
        {
          "output_type": "execute_result",
          "data": {
            "text/plain": [
              "<tf.Tensor: shape=(4,), dtype=int32, numpy=array([   4,   27,  256, 3125], dtype=int32)>"
            ]
          },
          "metadata": {},
          "execution_count": 33
        }
      ]
    },
    {
      "cell_type": "code",
      "source": [
        "x1 = tf.constant([\n",
        "    [12,20,3,4],\n",
        "    [32,1,32,8]\n",
        "    ])\n",
        "\n",
        "print(tf.math.reduce_sum(x1,axis=0, keepdims=False)) #here we are saying lets fix the row(by putting 0) and the operation will happen column wise\n",
        "print(tf.math.reduce_sum(x1,axis=1, keepdims=True))"
      ],
      "metadata": {
        "colab": {
          "base_uri": "https://localhost:8080/"
        },
        "id": "fErCl6iTpNih",
        "outputId": "b1135c9c-9993-4ffa-f048-fcaa3563c326"
      },
      "execution_count": null,
      "outputs": [
        {
          "output_type": "stream",
          "name": "stdout",
          "text": [
            "tf.Tensor([44 21 35 12], shape=(4,), dtype=int32)\n",
            "tf.Tensor(\n",
            "[[39]\n",
            " [73]], shape=(2, 1), dtype=int32)\n"
          ]
        }
      ]
    },
    {
      "cell_type": "code",
      "source": [
        "x1 = tf.constant([\n",
        "    [12,20,3,4],\n",
        "    [32,1,32,8]\n",
        "    ])\n",
        "\n",
        "print(tf.math.reduce_max(x1,axis=None, keepdims=False))"
      ],
      "metadata": {
        "colab": {
          "base_uri": "https://localhost:8080/"
        },
        "id": "RDwL-6_OqL67",
        "outputId": "3737fcf1-308b-441f-c06a-85bb7176731a"
      },
      "execution_count": null,
      "outputs": [
        {
          "output_type": "stream",
          "name": "stdout",
          "text": [
            "tf.Tensor(32, shape=(), dtype=int32)\n"
          ]
        }
      ]
    },
    {
      "cell_type": "code",
      "source": [
        "#Sigmoid zFunction\n",
        "# The foprmula of sigmoid function is sigmoid(x) = y = 1/1+exp(-x) for all x (-inf, inf)\n",
        "# The output will be between 0 amd 1\n",
        "\n",
        "x = tf.constant([\n",
        "    [20, 32, 1.2,6,2],\n",
        "    [0.3,0.45,1.4,1.6,3]\n",
        "])\n",
        "\n",
        "tf.math.sigmoid(x)"
      ],
      "metadata": {
        "colab": {
          "base_uri": "https://localhost:8080/"
        },
        "id": "pqkQ76f3qf6p",
        "outputId": "2c8a73f9-cef8-4e47-a5d1-3a02968c612a"
      },
      "execution_count": null,
      "outputs": [
        {
          "output_type": "execute_result",
          "data": {
            "text/plain": [
              "<tf.Tensor: shape=(2, 5), dtype=float32, numpy=\n",
              "array([[1.        , 1.        , 0.7685247 , 0.99752736, 0.8807971 ],\n",
              "       [0.57444245, 0.6106392 , 0.80218387, 0.8320184 , 0.95257413]],\n",
              "      dtype=float32)>"
            ]
          },
          "metadata": {},
          "execution_count": 3
        }
      ]
    },
    {
      "cell_type": "code",
      "source": [
        "#Top k will check our matrix and return the top k elements by analysing row wise\n",
        "\n",
        "x = tf.constant([\n",
        "    [20, 32, 1.2,6,2],\n",
        "    [0.3,0.45,1.4,1.6,3]\n",
        "])\n",
        "\n",
        "tf.math.top_k(x,k=2,sorted=True)"
      ],
      "metadata": {
        "colab": {
          "base_uri": "https://localhost:8080/"
        },
        "id": "5WTYP-i1yeCl",
        "outputId": "15928fbb-294c-4e89-cff3-eae33856102c"
      },
      "execution_count": null,
      "outputs": [
        {
          "output_type": "execute_result",
          "data": {
            "text/plain": [
              "TopKV2(values=<tf.Tensor: shape=(2, 2), dtype=float32, numpy=\n",
              "array([[32. , 20. ],\n",
              "       [ 3. ,  1.6]], dtype=float32)>, indices=<tf.Tensor: shape=(2, 2), dtype=int32, numpy=\n",
              "array([[1, 0],\n",
              "       [4, 3]], dtype=int32)>)"
            ]
          },
          "metadata": {},
          "execution_count": 8
        }
      ]
    },
    {
      "cell_type": "code",
      "source": [],
      "metadata": {
        "id": "sn_ia9tNy9at"
      },
      "execution_count": null,
      "outputs": []
    }
  ]
}