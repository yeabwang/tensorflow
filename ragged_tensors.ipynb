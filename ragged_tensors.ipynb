{
  "nbformat": 4,
  "nbformat_minor": 0,
  "metadata": {
    "colab": {
      "provenance": [],
      "authorship_tag": "ABX9TyNa8SLxzlPDyzPKqKDtKCL9",
      "include_colab_link": true
    },
    "kernelspec": {
      "name": "python3",
      "display_name": "Python 3"
    },
    "language_info": {
      "name": "python"
    }
  },
  "cells": [
    {
      "cell_type": "markdown",
      "metadata": {
        "id": "view-in-github",
        "colab_type": "text"
      },
      "source": [
        "<a href=\"https://colab.research.google.com/github/yeabwang/tensorflow/blob/main/ragged_tensors.ipynb\" target=\"_parent\"><img src=\"https://colab.research.google.com/assets/colab-badge.svg\" alt=\"Open In Colab\"/></a>"
      ]
    },
    {
      "cell_type": "code",
      "execution_count": 1,
      "metadata": {
        "id": "ZGJFc_P3oVRS"
      },
      "outputs": [],
      "source": [
        "import tensorflow as tf"
      ]
    },
    {
      "cell_type": "code",
      "source": [
        "# Ragged Tensors - special type of tensor used to handle data with variable-length dimensions.\n",
        "# Its important in real workld data processing beacuse:\n",
        "# - Can store matrix with variable shape - so no need of padding to make all similar size.\n",
        "# - This will avoid usage of uneccessary memory and processing\n",
        "# - Dynamicity and flexability.\n",
        "# Examples - dealing with sentences having variable number of words, dealing with images of variable size.\n",
        "\n",
        "ragged_tensor = tf.ragged.constant([\n",
        "    [1,2,2],\n",
        "     [0],\n",
        "      [1,2]])\n",
        "\n",
        "print(ragged_tensor)\n",
        "print(ragged_tensor.shape) # will be (3,) because we have 3 rows but don't know the number of columns exactly"
      ],
      "metadata": {
        "colab": {
          "base_uri": "https://localhost:8080/"
        },
        "id": "fLC5j7-5od0b",
        "outputId": "afc609b2-9370-4f95-8b88-86590806bc1c"
      },
      "execution_count": null,
      "outputs": [
        {
          "output_type": "stream",
          "name": "stdout",
          "text": [
            "<tf.RaggedTensor [[1, 2, 2], [0], [1, 2]]>\n",
            "(3, None)\n"
          ]
        }
      ]
    },
    {
      "cell_type": "code",
      "source": [
        "# Ragged Boolean Mask - it helps you select or ignore certain elements in the ragged tensor according to some conditions (represented as True or False values).\n",
        "\n",
        "# If the boolean mask value is True for an element, the element is kept.\n",
        "# If the boolean mask value is False for an element, the element is removed or ignored.\n",
        "\n",
        "# tf.ragged.boolean_mask(\n",
        "#     ragged_tensor,\n",
        "#     mask, - a tensor of same length containing truth values\n",
        "#     name=None\n",
        "# )\n",
        "\n",
        "ragged_tensor = tf.ragged.constant([\n",
        "    [1,3,2],\n",
        "     [0],\n",
        "      [1,2]])\n",
        "\n",
        "mask = tf.ragged.constant([[True, False, True], [False], [False,True]])\n",
        "\n",
        "masked_tensor = tf.ragged.boolean_mask(ragged_tensor,mask).to_list()\n",
        "print(masked_tensor)"
      ],
      "metadata": {
        "colab": {
          "base_uri": "https://localhost:8080/"
        },
        "id": "IZEYHuPEqZmz",
        "outputId": "82e353d1-5310-408e-ddc3-ce807eafd799"
      },
      "execution_count": null,
      "outputs": [
        {
          "output_type": "stream",
          "name": "stdout",
          "text": [
            "[[1, 2], [], [2]]\n"
          ]
        }
      ]
    },
    {
      "cell_type": "code",
      "source": [
        "# creating ragged list from a list\n",
        "\n",
        "# From row_length his function creates a ragged tensor from a flat list of values and a list of row lengths. The row lengths specify how many elements each row will have.\n",
        "\n",
        "values = [3, 1, 4, 5, 76, 1, 3, 1, 3, 1, 0]\n",
        "row_lengths = [3, 2, 3, 3]\n",
        "\n",
        "ragged_list = tf.RaggedTensor.from_row_lengths(values,row_lengths)\n",
        "print(ragged_list)\n",
        "\n",
        "# From row splits - This function creates a ragged tensor by specifying the row splits, i.e., the indices where each row starts in the flat values list.\n",
        "# row splits (this tells us where each row starts)\n",
        "\n",
        "\n",
        "values1 = [3, 1, 4, 5, 76, 1, 3, 1, 3, 1, 0]\n",
        "row_splits = [0, 3, 5, 11]\n",
        "ragged_tensor = tf.RaggedTensor.from_row_splits(values, row_splits)\n",
        "print(ragged_tensor)\n",
        "\n"
      ],
      "metadata": {
        "colab": {
          "base_uri": "https://localhost:8080/"
        },
        "id": "ux4Xd38bw82Z",
        "outputId": "82792cb5-f31d-4266-dedb-2e3cd2a45a75"
      },
      "execution_count": null,
      "outputs": [
        {
          "output_type": "stream",
          "name": "stdout",
          "text": [
            "<tf.RaggedTensor [[3, 1, 4], [5, 76], [1, 3, 1], [3, 1, 0]]>\n",
            "<tf.RaggedTensor [[3, 1, 4], [5, 76], [1, 3, 1, 3, 1, 0]]>\n"
          ]
        }
      ]
    },
    {
      "cell_type": "code",
      "source": [],
      "metadata": {
        "id": "s5Jjg2JoznVz"
      },
      "execution_count": null,
      "outputs": []
    }
  ]
}